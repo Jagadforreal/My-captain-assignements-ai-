{
 "cells": [
  {
   "cell_type": "code",
   "execution_count": null,
   "metadata": {},
   "outputs": [],
   "source": [
    "#1.adding elements to the list\n",
    "lst=[]\n",
    "n=int(input('Enter the number of items in the list'))\n",
    "for i in range (0,n):\n",
    "    t=input('Enter the data type strng/intgr/flt/booln')\n",
    "    if (t=='strng'):\n",
    "        st=input('Enter the string value')\n",
    "        lst.append(st)\n",
    "    elif (t=='intgr'):\n",
    "        it=int(input('Enter the integer value'))\n",
    "        lst.append(it)\n",
    "    elif (t=='flt'):\n",
    "        ft=float(input('Enter the float value'))\n",
    "        lst.append(ft)\n",
    "    elif (t=='booln'):\n",
    "        bl=bool(input('Enter the boolean value'))\n",
    "        lst.append(bl)\n",
    "\n",
    "print('The given list is:',lst)\n",
    "y=input('Do you have to add more elements (integers only) to the list?  yes/no')\n",
    "if (y=='yes'):\n",
    "    u=int(input('enter the number of elements to be added'))\n",
    "    for j in range(0,u):\n",
    "        h=int(input('Ener the index'))\n",
    "        g=int(input('Enter the value to be added in the index'))\n",
    "        lst.insert(h,g)\n",
    "else:\n",
    "    print('This will be the final list')\n",
    "    \n",
    "print('The final list is:\\n',lst)\n",
    "    "
   ]
  },
  {
   "cell_type": "code",
   "execution_count": null,
   "metadata": {},
   "outputs": [],
   "source": [
    "#2.accessing the element from tuple \n",
    "a=(23,'gsk',34,8,'brb',5.6)\n",
    "print(a[3])\n",
    "print(a[1:4])\n",
    "print(a[::2])\n",
    "print(a[::-1])"
   ]
  },
  {
   "cell_type": "code",
   "execution_count": null,
   "metadata": {},
   "outputs": [],
   "source": [
    "#3.dleleting dictionary elements\n",
    "artists={1:'Logic',2:'Joyner Lucas',3:'EM',4:'MGK',5:'Vin Jay'}"
   ]
  },
  {
   "cell_type": "code",
   "execution_count": null,
   "metadata": {},
   "outputs": [],
   "source": [
    "del artists[5]#deleting with key\n",
    "print(artists)"
   ]
  },
  {
   "cell_type": "code",
   "execution_count": null,
   "metadata": {},
   "outputs": [],
   "source": [
    "print(artists.pop(3))#popping a element using the key(similar to stack)\n",
    "print(artists)"
   ]
  },
  {
   "cell_type": "code",
   "execution_count": null,
   "metadata": {},
   "outputs": [],
   "source": [
    "artists.clear()#deleting all the elements\n",
    "print(artists)"
   ]
  },
  {
   "cell_type": "code",
   "execution_count": null,
   "metadata": {},
   "outputs": [],
   "source": [
    "del artists#wiping the entire dictionary\n",
    "print(artists)"
   ]
  },
  {
   "cell_type": "code",
   "execution_count": null,
   "metadata": {},
   "outputs": [],
   "source": []
  },
  {
   "cell_type": "code",
   "execution_count": null,
   "metadata": {},
   "outputs": [],
   "source": []
  }
 ],
 "metadata": {
  "kernelspec": {
   "display_name": "Python 3",
   "language": "python",
   "name": "python3"
  },
  "language_info": {
   "codemirror_mode": {
    "name": "ipython",
    "version": 3
   },
   "file_extension": ".py",
   "mimetype": "text/x-python",
   "name": "python",
   "nbconvert_exporter": "python",
   "pygments_lexer": "ipython3",
   "version": "3.7.6"
  }
 },
 "nbformat": 4,
 "nbformat_minor": 4
}
