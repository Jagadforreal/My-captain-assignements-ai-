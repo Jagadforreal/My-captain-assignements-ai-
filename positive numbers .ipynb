{
 "cells": [
  {
   "cell_type": "code",
   "execution_count": 3,
   "metadata": {},
   "outputs": [
    {
     "name": "stdout",
     "output_type": "stream",
     "text": [
      "12 5 64 \n",
      "\n",
      "[12, 14, 3]\n"
     ]
    }
   ],
   "source": [
    "#to print the positive numbers from a list\n",
    "\n",
    "x=[12,-7,5,64,-14] #input1\n",
    "y=[12,14,-95,3]    #input2\n",
    "for i in x :\n",
    "    if (i > 0):\n",
    "        print(i,end=' ')#output1\n",
    "        \n",
    "print('\\n')        \n",
    "\n",
    "z=[]        \n",
    "for j in y:\n",
    "    if (j > 0):\n",
    "        z.append(j)\n",
    "        \n",
    "print (z)#output2\n"
   ]
  },
  {
   "cell_type": "code",
   "execution_count": null,
   "metadata": {},
   "outputs": [],
   "source": []
  },
  {
   "cell_type": "code",
   "execution_count": null,
   "metadata": {},
   "outputs": [],
   "source": []
  }
 ],
 "metadata": {
  "kernelspec": {
   "display_name": "Python 3",
   "language": "python",
   "name": "python3"
  },
  "language_info": {
   "codemirror_mode": {
    "name": "ipython",
    "version": 3
   },
   "file_extension": ".py",
   "mimetype": "text/x-python",
   "name": "python",
   "nbconvert_exporter": "python",
   "pygments_lexer": "ipython3",
   "version": "3.7.6"
  }
 },
 "nbformat": 4,
 "nbformat_minor": 4
}
